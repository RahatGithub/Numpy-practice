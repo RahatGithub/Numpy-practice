{
 "cells": [
  {
   "cell_type": "markdown",
   "id": "5b71423e",
   "metadata": {},
   "source": [
    "# Step 1"
   ]
  },
  {
   "cell_type": "code",
   "execution_count": 1,
   "id": "05633fa3",
   "metadata": {},
   "outputs": [],
   "source": [
    "import numpy as np"
   ]
  },
  {
   "cell_type": "markdown",
   "id": "e7f2d3a4",
   "metadata": {},
   "source": [
    "**Declaring a n-D array**"
   ]
  },
  {
   "cell_type": "code",
   "execution_count": 2,
   "id": "350a6f2e",
   "metadata": {},
   "outputs": [],
   "source": [
    "arr = np.array([(2, 4, 8, 11, 12, 19), (12, 14, 13, 11, 31, 78), (\"Nafe\", \"Rafe\", \"Share\", \"Fare\", \"Pakhi\", \"Barek\")])\n",
    "\n",
    "# General expression: \n",
    "\n",
    "# array([ (col1, col2, col3, col4), (col1, col2, col3, col4), (col1, col2, col3, col4) ], additional parameters) \n",
    "\n",
    "# [...whole array...]\n",
    "\n",
    "# (...one row...)"
   ]
  },
  {
   "cell_type": "markdown",
   "id": "2384b642",
   "metadata": {},
   "source": [
    "**The data type of an array**"
   ]
  },
  {
   "cell_type": "code",
   "execution_count": 3,
   "id": "3dd315eb",
   "metadata": {},
   "outputs": [
    {
     "data": {
      "text/plain": [
       "dtype('<U11')"
      ]
     },
     "execution_count": 3,
     "metadata": {},
     "output_type": "execute_result"
    }
   ],
   "source": [
    "arr.dtype"
   ]
  },
  {
   "cell_type": "markdown",
   "id": "1100a94d",
   "metadata": {},
   "source": [
    "**The number of axes of an array**"
   ]
  },
  {
   "cell_type": "code",
   "execution_count": 4,
   "id": "167ffc58",
   "metadata": {
    "scrolled": true
   },
   "outputs": [
    {
     "data": {
      "text/plain": [
       "2"
      ]
     },
     "execution_count": 4,
     "metadata": {},
     "output_type": "execute_result"
    }
   ],
   "source": [
    "arr.ndim"
   ]
  },
  {
   "cell_type": "markdown",
   "id": "6da6adcf",
   "metadata": {},
   "source": [
    "**The shape(dimensions) of an array**"
   ]
  },
  {
   "cell_type": "code",
   "execution_count": 5,
   "id": "21d28b41",
   "metadata": {},
   "outputs": [
    {
     "data": {
      "text/plain": [
       "(3, 6)"
      ]
     },
     "execution_count": 5,
     "metadata": {},
     "output_type": "execute_result"
    }
   ],
   "source": [
    "arr.shape"
   ]
  },
  {
   "cell_type": "markdown",
   "id": "fa62af43",
   "metadata": {},
   "source": [
    "**The size of an array**"
   ]
  },
  {
   "cell_type": "code",
   "execution_count": 6,
   "id": "8d42f6cd",
   "metadata": {},
   "outputs": [
    {
     "data": {
      "text/plain": [
       "18"
      ]
     },
     "execution_count": 6,
     "metadata": {},
     "output_type": "execute_result"
    }
   ],
   "source": [
    "arr.size  # result will be the product of the elements of its shape. In this case, result is 18 = 3 X 6"
   ]
  },
  {
   "cell_type": "markdown",
   "id": "1ad3b54e",
   "metadata": {},
   "source": [
    "**Size of each element in bytes**"
   ]
  },
  {
   "cell_type": "code",
   "execution_count": 7,
   "id": "745b95d0",
   "metadata": {},
   "outputs": [
    {
     "name": "stdout",
     "output_type": "stream",
     "text": [
      "int32\n",
      "4\n"
     ]
    }
   ],
   "source": [
    "distance = np.array([ (4,5,6), (7,8,9) ])\n",
    "\n",
    "print(distance.dtype) \n",
    "\n",
    "print(distance.itemsize)  # the int32 containe 32 bits as each element. 32/8 = 4 bytes"
   ]
  },
  {
   "cell_type": "markdown",
   "id": "6dfb976c",
   "metadata": {},
   "source": [
    "# Step 2"
   ]
  },
  {
   "cell_type": "markdown",
   "id": "592b6882",
   "metadata": {},
   "source": [
    "**Reshaping an array**"
   ]
  },
  {
   "cell_type": "code",
   "execution_count": 8,
   "id": "22d2d6d6",
   "metadata": {
    "scrolled": true
   },
   "outputs": [
    {
     "name": "stdout",
     "output_type": "stream",
     "text": [
      "before reshaping: \n",
      " [['2' '4' '8' '11' '12' '19']\n",
      " ['12' '14' '13' '11' '31' '78']\n",
      " ['Nafe' 'Rafe' 'Share' 'Fare' 'Pakhi' 'Barek']]\n",
      "after reshaping: \n",
      " [['2' '4' '8']\n",
      " ['11' '12' '19']\n",
      " ['12' '14' '13']\n",
      " ['11' '31' '78']\n",
      " ['Nafe' 'Rafe' 'Share']\n",
      " ['Fare' 'Pakhi' 'Barek']]\n"
     ]
    }
   ],
   "source": [
    "print('before reshaping: \\n', arr)\n",
    "\n",
    "arr2 = arr.reshape(6,3)  # 'arr' has 3 rows and 6 cols. Here, we're instructing to reshape the array and copy it to 'arr2' which will have 6 rows and 3 cols\n",
    "\n",
    "print('after reshaping: \\n', arr2)"
   ]
  },
  {
   "cell_type": "markdown",
   "id": "1c8a5103",
   "metadata": {},
   "source": [
    "**Creating an array with a/an initial value(/s)**"
   ]
  },
  {
   "cell_type": "code",
   "execution_count": 9,
   "id": "08a11d76",
   "metadata": {
    "scrolled": true
   },
   "outputs": [
    {
     "name": "stdout",
     "output_type": "stream",
     "text": [
      "[[0. 0. 0. 0.]\n",
      " [0. 0. 0. 0.]\n",
      " [0. 0. 0. 0.]\n",
      " [0. 0. 0. 0.]\n",
      " [0. 0. 0. 0.]]\n",
      "\n",
      "[[1. 1. 1.]\n",
      " [1. 1. 1.]\n",
      " [1. 1. 1.]\n",
      " [1. 1. 1.]]\n",
      "\n",
      "[[4.24399158e-314 9.88131292e-324 0.00000000e+000]\n",
      " [0.00000000e+000 0.00000000e+000 0.00000000e+000]\n",
      " [0.00000000e+000 0.00000000e+000 0.00000000e+000]\n",
      " [0.00000000e+000 0.00000000e+000 0.00000000e+000]\n",
      " [0.00000000e+000 0.00000000e+000 0.00000000e+000]\n",
      " [0.00000000e+000 0.00000000e+000 0.00000000e+000]\n",
      " [0.00000000e+000 0.00000000e+000 0.00000000e+000]]\n",
      "\n"
     ]
    }
   ],
   "source": [
    "##### By default, the dtype of the created array is float64 #####\n",
    "\n",
    "zero_arr = np.zeros((5,4))    # creates a 5X4 array containing 0 as each element \n",
    "one_arr = np.ones((4,3))      # creates a 4X3 array containing 1 as each element\n",
    "rand_arr = np.empty((7,3))    # creates a 7X3 array containing random number as each element\n",
    "\n",
    "print(zero_arr, end=\"\\n\\n\")\n",
    "print(one_arr, end=\"\\n\\n\")\n",
    "print(rand_arr, end=\"\\n\\n\")"
   ]
  },
  {
   "cell_type": "markdown",
   "id": "0c8d0ec2",
   "metadata": {},
   "source": [
    "**np.arange() - when the focus is on the end values**"
   ]
  },
  {
   "cell_type": "code",
   "execution_count": 10,
   "id": "3d5d2021",
   "metadata": {},
   "outputs": [
    {
     "data": {
      "text/plain": [
       "array([3, 5, 7, 9])"
      ]
     },
     "execution_count": 10,
     "metadata": {},
     "output_type": "execute_result"
    }
   ],
   "source": [
    "np.arange(3,10,2)  # starts from 3 and skips 2 in each step till 10    "
   ]
  },
  {
   "cell_type": "markdown",
   "id": "d070dd35",
   "metadata": {},
   "source": [
    "**linspace() - when the focus is on the number of elements between the end values**"
   ]
  },
  {
   "cell_type": "code",
   "execution_count": 11,
   "id": "033ebdea",
   "metadata": {
    "scrolled": true
   },
   "outputs": [
    {
     "data": {
      "text/plain": [
       "array([0.  , 0.25, 0.5 , 0.75, 1.  ])"
      ]
     },
     "execution_count": 11,
     "metadata": {},
     "output_type": "execute_result"
    }
   ],
   "source": [
    "np.linspace(0,1,5)  # takes 5 values from 0 to 1; means, cuts the range 0-1 into 5 pieces"
   ]
  },
  {
   "cell_type": "markdown",
   "id": "8eb77583",
   "metadata": {},
   "source": [
    "# Basic array operations"
   ]
  },
  {
   "cell_type": "markdown",
   "id": "f662c44c",
   "metadata": {},
   "source": [
    "**Arithmetic operations on arrays**"
   ]
  },
  {
   "cell_type": "markdown",
   "id": "c9214ea1",
   "metadata": {},
   "source": [
    "*Arithmetic operators on arrays apply elementwise. A new array is created and filled with the result*"
   ]
  },
  {
   "cell_type": "code",
   "execution_count": 12,
   "id": "68b78ff2",
   "metadata": {},
   "outputs": [
    {
     "name": "stdout",
     "output_type": "stream",
     "text": [
      "[ 5  7  3 11  8]\n",
      "[2 4 5 6 1]\n",
      "[ 3  3 -2  5  7]\n"
     ]
    }
   ],
   "source": [
    "# Subtraction\n",
    "\n",
    "a = np.array([5, 7, 3, 11, 8])\n",
    "b = np.array([2, 4, 5, 6, 1])\n",
    "\n",
    "c = a - b \n",
    "\n",
    "print(a)\n",
    "print(b)\n",
    "print(c)"
   ]
  },
  {
   "cell_type": "code",
   "execution_count": 20,
   "id": "eaf87f7e",
   "metadata": {},
   "outputs": [
    {
     "name": "stdout",
     "output_type": "stream",
     "text": [
      "[ 2 25 49 12 20]\n"
     ]
    }
   ],
   "source": [
    "# Elementwise product\n",
    "\n",
    "a = np.array([2,5,7,6,5])\n",
    "b = np.array([1,5,7,2,4])\n",
    "\n",
    "c = a * b \n",
    "\n",
    "print(c)  # prints an array"
   ]
  },
  {
   "cell_type": "code",
   "execution_count": 21,
   "id": "3bef983f",
   "metadata": {},
   "outputs": [
    {
     "name": "stdout",
     "output_type": "stream",
     "text": [
      "108\n"
     ]
    }
   ],
   "source": [
    "# Matrix product\n",
    "\n",
    "a = np.array([2,5,7,6,5])\n",
    "b = np.array([1,5,7,2,4])\n",
    "\n",
    "c = a @ b \n",
    "\n",
    "print(c)  # prints a value which will be the sum of the elementwise product of the arrays"
   ]
  },
  {
   "cell_type": "markdown",
   "id": "468b7c34",
   "metadata": {},
   "source": [
    "**Sum of the whole/partial array**"
   ]
  },
  {
   "cell_type": "code",
   "execution_count": 39,
   "id": "2c1c2aaf",
   "metadata": {},
   "outputs": [
    {
     "data": {
      "text/plain": [
       "array([[ 0,  1,  2,  3],\n",
       "       [ 4,  6,  8, 10],\n",
       "       [12, 15, 18, 21]])"
      ]
     },
     "execution_count": 39,
     "metadata": {},
     "output_type": "execute_result"
    }
   ],
   "source": [
    "a = np.arange(12).reshape(3,4)\n",
    "\n",
    "a.sum()          # output: 66\n",
    "a.sum(axis=0)    # output: [12, 15, 18, 21] \n",
    "a.sum(axis=1)    # output: [6, 22, 38] \n",
    "a.cumsum(axis=0) # output: [[0, 1, 2, 3],\n",
    "                 #          [4, 5, 6, 7],\n",
    "                 #          [8, 9, 10, 11]]"
   ]
  },
  {
   "cell_type": "markdown",
   "id": "f8b94db0",
   "metadata": {},
   "source": [
    "# Playing more with array"
   ]
  },
  {
   "cell_type": "markdown",
   "id": "81a5fc1a",
   "metadata": {},
   "source": [
    "**Performing operation on each element of an array**"
   ]
  },
  {
   "cell_type": "code",
   "execution_count": 59,
   "id": "877aca60",
   "metadata": {},
   "outputs": [
    {
     "name": "stdout",
     "output_type": "stream",
     "text": [
      "1\n",
      "4\n",
      "9\n",
      "16\n",
      "25\n",
      "36\n",
      "49\n",
      "64\n",
      "81\n",
      "100\n",
      "121\n",
      "144\n"
     ]
    }
   ],
   "source": [
    "arr = np.array([[1,2,3,4],\n",
    "                [5,6,7,8],\n",
    "                [9,10,11,12]])\n",
    "\n",
    "for e in arr.flat: \n",
    "    print(e**2)"
   ]
  },
  {
   "cell_type": "markdown",
   "id": "d82bb2e3",
   "metadata": {},
   "source": [
    "**Getting the flattened array**"
   ]
  },
  {
   "cell_type": "code",
   "execution_count": 63,
   "id": "b7415075",
   "metadata": {
    "scrolled": true
   },
   "outputs": [
    {
     "name": "stdout",
     "output_type": "stream",
     "text": [
      "[[ 1  2  3  4]\n",
      " [ 5  6  7  8]\n",
      " [ 9 10 11 12]]\n",
      "\n",
      "[ 1  2  3  4  5  6  7  8  9 10 11 12]\n"
     ]
    }
   ],
   "source": [
    "flat_arr = arr.ravel()  \n",
    "print(arr, end=\"\\n\\n\")  # prints the actual n-D array\n",
    "print(flat_arr)         # prints a 1-D array containing all the elements of 'arr'"
   ]
  },
  {
   "cell_type": "markdown",
   "id": "e278e77a",
   "metadata": {},
   "source": [
    "**Transpose of a matrix/array**"
   ]
  },
  {
   "cell_type": "code",
   "execution_count": 81,
   "id": "7c0022a8",
   "metadata": {},
   "outputs": [
    {
     "data": {
      "text/plain": [
       "array([[ 1,  5,  9],\n",
       "       [ 2,  6, 10],\n",
       "       [ 3,  7, 11],\n",
       "       [ 4,  8, 12]])"
      ]
     },
     "execution_count": 81,
     "metadata": {},
     "output_type": "execute_result"
    }
   ],
   "source": [
    "arr.T"
   ]
  },
  {
   "cell_type": "markdown",
   "id": "bde1bb7b",
   "metadata": {},
   "source": [
    "**Modifying the size of the array**"
   ]
  },
  {
   "cell_type": "code",
   "execution_count": 85,
   "id": "d170f3a0",
   "metadata": {},
   "outputs": [
    {
     "data": {
      "text/plain": [
       "array([[ 1,  2],\n",
       "       [ 3,  4],\n",
       "       [ 5,  6],\n",
       "       [ 7,  8],\n",
       "       [ 9, 10],\n",
       "       [11, 12]])"
      ]
     },
     "execution_count": 85,
     "metadata": {},
     "output_type": "execute_result"
    }
   ],
   "source": [
    "a = np.array([\n",
    "    [1,2,3,4],\n",
    "    [5,6,7,8],\n",
    "    [9,10,11,12] \n",
    "])\n",
    "\n",
    "a.resize((6,2))   # unlike reshape(), resize() modifies the array itself\n",
    "\n",
    "a"
   ]
  },
  {
   "cell_type": "code",
   "execution_count": null,
   "id": "f6b3583f",
   "metadata": {},
   "outputs": [],
   "source": []
  }
 ],
 "metadata": {
  "kernelspec": {
   "display_name": "Python 3 (ipykernel)",
   "language": "python",
   "name": "python3"
  },
  "language_info": {
   "codemirror_mode": {
    "name": "ipython",
    "version": 3
   },
   "file_extension": ".py",
   "mimetype": "text/x-python",
   "name": "python",
   "nbconvert_exporter": "python",
   "pygments_lexer": "ipython3",
   "version": "3.9.5"
  }
 },
 "nbformat": 4,
 "nbformat_minor": 5
}
