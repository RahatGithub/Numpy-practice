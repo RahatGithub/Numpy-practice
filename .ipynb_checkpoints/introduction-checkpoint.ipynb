{
 "cells": [
  {
   "cell_type": "markdown",
   "id": "5b71423e",
   "metadata": {},
   "source": [
    "# Step 1"
   ]
  },
  {
   "cell_type": "code",
   "execution_count": 1,
   "id": "05633fa3",
   "metadata": {},
   "outputs": [],
   "source": [
    "import numpy as np"
   ]
  },
  {
   "cell_type": "markdown",
   "id": "e7f2d3a4",
   "metadata": {},
   "source": [
    "**Declaring a n-D array**"
   ]
  },
  {
   "cell_type": "code",
   "execution_count": 2,
   "id": "350a6f2e",
   "metadata": {},
   "outputs": [],
   "source": [
    "arr = np.array([(2, 4, 8, 11, 12, 19), (12, 14, 13, 11, 31, 78), (\"Nafe\", \"Rafe\", \"Share\", \"Fare\", \"Pakhi\", \"Barek\")])\n",
    "\n",
    "# General expression: \n",
    "\n",
    "# array([ (col1, col2, col3, col4), (col1, col2, col3, col4), (col1, col2, col3, col4) ], additional parameters) \n",
    "\n",
    "# [...whole array...]\n",
    "\n",
    "# (...one row...)"
   ]
  },
  {
   "cell_type": "markdown",
   "id": "2384b642",
   "metadata": {},
   "source": [
    "**The data type of an array**"
   ]
  },
  {
   "cell_type": "code",
   "execution_count": 3,
   "id": "3dd315eb",
   "metadata": {},
   "outputs": [
    {
     "data": {
      "text/plain": [
       "dtype('<U11')"
      ]
     },
     "execution_count": 3,
     "metadata": {},
     "output_type": "execute_result"
    }
   ],
   "source": [
    "arr.dtype"
   ]
  },
  {
   "cell_type": "markdown",
   "id": "1100a94d",
   "metadata": {},
   "source": [
    "**The number of axes of an array**"
   ]
  },
  {
   "cell_type": "code",
   "execution_count": 4,
   "id": "167ffc58",
   "metadata": {
    "scrolled": true
   },
   "outputs": [
    {
     "data": {
      "text/plain": [
       "2"
      ]
     },
     "execution_count": 4,
     "metadata": {},
     "output_type": "execute_result"
    }
   ],
   "source": [
    "arr.ndim"
   ]
  },
  {
   "cell_type": "markdown",
   "id": "6da6adcf",
   "metadata": {},
   "source": [
    "**The shape(dimensions) of an array**"
   ]
  },
  {
   "cell_type": "code",
   "execution_count": 5,
   "id": "21d28b41",
   "metadata": {},
   "outputs": [
    {
     "data": {
      "text/plain": [
       "(3, 6)"
      ]
     },
     "execution_count": 5,
     "metadata": {},
     "output_type": "execute_result"
    }
   ],
   "source": [
    "arr.shape"
   ]
  },
  {
   "cell_type": "markdown",
   "id": "fa62af43",
   "metadata": {},
   "source": [
    "**The size of an array**"
   ]
  },
  {
   "cell_type": "code",
   "execution_count": 6,
   "id": "8d42f6cd",
   "metadata": {},
   "outputs": [
    {
     "data": {
      "text/plain": [
       "18"
      ]
     },
     "execution_count": 6,
     "metadata": {},
     "output_type": "execute_result"
    }
   ],
   "source": [
    "arr.size  # result will be the product of the elements of its shape. In this case, result is 18 = 3 X 6"
   ]
  },
  {
   "cell_type": "markdown",
   "id": "1ad3b54e",
   "metadata": {},
   "source": [
    "**Size of each element in bytes**"
   ]
  },
  {
   "cell_type": "code",
   "execution_count": 7,
   "id": "745b95d0",
   "metadata": {},
   "outputs": [
    {
     "name": "stdout",
     "output_type": "stream",
     "text": [
      "int32\n",
      "4\n"
     ]
    }
   ],
   "source": [
    "distance = np.array([ (4,5,6), (7,8,9) ])\n",
    "\n",
    "print(distance.dtype) \n",
    "\n",
    "print(distance.itemsize)  # the int32 containe 32 bits as each element. 32/8 = 4 bytes"
   ]
  },
  {
   "cell_type": "markdown",
   "id": "6dfb976c",
   "metadata": {},
   "source": [
    "# Step 2"
   ]
  },
  {
   "cell_type": "markdown",
   "id": "592b6882",
   "metadata": {},
   "source": [
    "**Reshaping an array**"
   ]
  },
  {
   "cell_type": "code",
   "execution_count": 8,
   "id": "22d2d6d6",
   "metadata": {
    "scrolled": true
   },
   "outputs": [
    {
     "name": "stdout",
     "output_type": "stream",
     "text": [
      "before reshaping: \n",
      " [['2' '4' '8' '11' '12' '19']\n",
      " ['12' '14' '13' '11' '31' '78']\n",
      " ['Nafe' 'Rafe' 'Share' 'Fare' 'Pakhi' 'Barek']]\n",
      "after reshaping: \n",
      " [['2' '4' '8']\n",
      " ['11' '12' '19']\n",
      " ['12' '14' '13']\n",
      " ['11' '31' '78']\n",
      " ['Nafe' 'Rafe' 'Share']\n",
      " ['Fare' 'Pakhi' 'Barek']]\n"
     ]
    }
   ],
   "source": [
    "print('before reshaping: \\n', arr)\n",
    "\n",
    "arr2 = arr.reshape(6,3)  # 'arr' has 3 rows and 6 cols. Here, we're instructing to reshape the array and copy it to 'arr2' which will have 6 rows and 3 cols\n",
    "\n",
    "print('after reshaping: \\n', arr2)"
   ]
  },
  {
   "cell_type": "markdown",
   "id": "6d597af0",
   "metadata": {},
   "source": [
    "**Creating an array with a/an initial value(/s)**"
   ]
  },
  {
   "cell_type": "code",
   "execution_count": 9,
   "id": "08a11d76",
   "metadata": {
    "scrolled": true
   },
   "outputs": [
    {
     "name": "stdout",
     "output_type": "stream",
     "text": [
      "[[0. 0. 0. 0.]\n",
      " [0. 0. 0. 0.]\n",
      " [0. 0. 0. 0.]\n",
      " [0. 0. 0. 0.]\n",
      " [0. 0. 0. 0.]]\n",
      "\n",
      "[[1. 1. 1.]\n",
      " [1. 1. 1.]\n",
      " [1. 1. 1.]\n",
      " [1. 1. 1.]]\n",
      "\n",
      "[[1.16847608e-311 1.16843939e-311 1.16847608e-311]\n",
      " [1.16843939e-311 1.16847608e-311 1.16843939e-311]\n",
      " [1.16847608e-311 1.16843939e-311 1.16847608e-311]\n",
      " [1.16843939e-311 1.16847608e-311 1.16843939e-311]\n",
      " [1.16847608e-311 1.16843939e-311 1.16847608e-311]\n",
      " [1.16843939e-311 1.16847608e-311 1.16843939e-311]\n",
      " [1.16847608e-311 1.16843939e-311 0.00000000e+000]]\n",
      "\n"
     ]
    }
   ],
   "source": [
    "##### By default, the dtype of the created array is float64 #####\n",
    "\n",
    "zero_arr = np.zeros((5,4))    # creates a 5X4 array containing 0 as each element \n",
    "one_arr = np.ones((4,3))      # creates a 4X3 array containing 1 as each element\n",
    "rand_arr = np.empty((7,3))    # creates a 7X3 array containing random number as each element\n",
    "\n",
    "print(zero_arr, end=\"\\n\\n\")\n",
    "print(one_arr, end=\"\\n\\n\")\n",
    "print(rand_arr, end=\"\\n\\n\")"
   ]
  },
  {
   "cell_type": "markdown",
   "id": "373b4892",
   "metadata": {},
   "source": [
    "**np.arange() - when the focus is on the end values**"
   ]
  },
  {
   "cell_type": "code",
   "execution_count": 32,
   "id": "24534772",
   "metadata": {},
   "outputs": [
    {
     "data": {
      "text/plain": [
       "array([3, 5, 7, 9])"
      ]
     },
     "execution_count": 32,
     "metadata": {},
     "output_type": "execute_result"
    }
   ],
   "source": [
    "np.arange(3,10,2)  # starts from 3 and skips 2 in each step till 10    "
   ]
  },
  {
   "cell_type": "markdown",
   "id": "c6367fee",
   "metadata": {},
   "source": [
    "**linspace() - when the focus is on the number of elements between the end values**"
   ]
  },
  {
   "cell_type": "code",
   "execution_count": 31,
   "id": "c7b3a4bb",
   "metadata": {
    "scrolled": true
   },
   "outputs": [
    {
     "data": {
      "text/plain": [
       "array([0.  , 0.25, 0.5 , 0.75, 1.  ])"
      ]
     },
     "execution_count": 31,
     "metadata": {},
     "output_type": "execute_result"
    }
   ],
   "source": [
    "np.linspace(0,1,5)  # takes 5 values from 0 to 1; means, cuts the range 0-1 into 5 pieces"
   ]
  },
  {
   "cell_type": "code",
   "execution_count": null,
   "id": "c8d038a1",
   "metadata": {},
   "outputs": [],
   "source": []
  },
  {
   "cell_type": "code",
   "execution_count": null,
   "id": "7363eb47",
   "metadata": {},
   "outputs": [],
   "source": []
  }
 ],
 "metadata": {
  "kernelspec": {
   "display_name": "Python 3 (ipykernel)",
   "language": "python",
   "name": "python3"
  },
  "language_info": {
   "codemirror_mode": {
    "name": "ipython",
    "version": 3
   },
   "file_extension": ".py",
   "mimetype": "text/x-python",
   "name": "python",
   "nbconvert_exporter": "python",
   "pygments_lexer": "ipython3",
   "version": "3.9.5"
  }
 },
 "nbformat": 4,
 "nbformat_minor": 5
}
